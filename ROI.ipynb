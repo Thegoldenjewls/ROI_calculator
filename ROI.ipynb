{
 "cells": [
  {
   "cell_type": "code",
   "execution_count": 1,
   "id": "fa213f59",
   "metadata": {
    "scrolled": true
   },
   "outputs": [],
   "source": [
    "class Roi:\n",
    "    def __init__(self):\n",
    "        self.income = 0\n",
    "        self.expenses = 0\n",
    "        self.cashflow = 0\n",
    "\n",
    "\n",
    "    def rental_income(self):\n",
    "#         income = {}\n",
    "        rent = int(input(\"Rental Income: \"))\n",
    "        laundry = int(input(\"Laundry Machine income: \"))\n",
    "        storage = int(input(\"Storage Space Income: \"))\n",
    "        misc = int(input(\"Misc. Rental Income: \"))\n",
    "        self.income = rent + laundry + storage + misc \n",
    "        print(f'Total Monthly Income = {self.income}.')\n",
    "        return(self.income)\n",
    "\n",
    "\n",
    "    def rental_expenses(self):\n",
    "#         expenses = {}\n",
    "        \n",
    "        taxes = int(input(\"How much will you pay for monthly taxes? \")) \n",
    "        insurance =int(input(\"How much is monthly insuance cost? \"))\n",
    "        water_sewer = int(input(\"How much is water/sewage? \" ))\n",
    "        garbage = int(input(\"How much is monthly garbage? \"))\n",
    "        electricity = int(input(\"What is average electricity cost? \"))\n",
    "        gas = int(input(\"What is average gas bill? \"))\n",
    "        lawn = int(input(\"What is the monthly lawn service cost? \"))\n",
    "        vacancy = int(input(\"How much aside for vacancy? \"))\n",
    "        repairs = int(input(\"How much aside for repairs? \"))\n",
    "        capex = int(input(\"How much aside for capital expediture? \"))\n",
    "        hoa = int(input(\"What are the homeowner association fees? \"))\n",
    "        managment = int(input(\"Is there a property managment cost?\"))\n",
    "        piti = int(input(\"What is the monthly mortgage? \"))\n",
    "        self.expenses = taxes + insurance + water_sewer + garbage + electricity + gas + lawn + vacancy + repairs + capex + hoa + managment\n",
    "        print(f'Total expenses = {self.expenses}.')\n",
    "        return self.expenses\n",
    "\n",
    "    def rental_cashflow(self,income,expenses):\n",
    "        \n",
    "        self.cashflow = self.income - self.expenses\n",
    "        print(f\"Rental income - Rental expenses = {self.cashflow}\")\n",
    "        self.cashflow = self.cashflow * 12\n",
    "        print(f\"Cashflow * 12 months = {self.cashflow}\")\n",
    "        return self.cashflow\n",
    "\n",
    "    def investment(self,cashflow):\n",
    "#         investment= {}\n",
    "       \n",
    "        down = int(input(\"Initial down payment? \"))\n",
    "        closing = int(input(\"Any closing costs? \"))\n",
    "        rehab = int(input(\"Any rehabilitation? \"))\n",
    "        other = int(input(\"Any investment costs? \"))\n",
    "        investment = down + closing + rehab + other\n",
    "        divide = self.cashflow / investment\n",
    "        print(divide)\n",
    "        ccreturn = divide * 100\n",
    "        print(ccreturn)\n",
    "        return ccreturn\n",
    "\n",
    "    def run(self):\n",
    "        self.rental_income()\n",
    "        self.rental_expenses()\n",
    "        self.rental_cashflow(self.income, self.expenses)\n",
    "        self.investment(self.cashflow)\n",
    "\n"
   ]
  },
  {
   "cell_type": "code",
   "execution_count": 6,
   "id": "dd6d7412",
   "metadata": {},
   "outputs": [
    {
     "name": "stdout",
     "output_type": "stream",
     "text": [
      "Rental Income: 1400\n",
      "Laundry Machine income: 0\n",
      "Storage Space Income: 150\n",
      "Misc. Rental Income: 0\n",
      "Total Monthly Income = 1550.\n",
      "How much will you pay for monthly taxes? 140\n",
      "How much is monthly insuance cost? 100\n",
      "How much is water/sewage? 0\n",
      "How much is monthly garbage? 0\n",
      "What is average electricity cost? 0\n",
      "What is average gas bill? 0\n",
      "What is the monthly lawn service cost? 100\n",
      "How much aside for vacancy? 20\n",
      "How much aside for repairs? 50\n",
      "How much aside for capital expediture? 100\n",
      "What are the homeowner association fees? 100\n",
      "Is there a property managment cost?100\n",
      "What is the monthly mortgage? 100\n",
      "Total expenses = 710.\n",
      "Rental income - Rental expenses = 840\n",
      "Cashflow * 12 months = 10080\n",
      "Initial down payment? 1000\n",
      "Any closing costs? 24\n",
      "Any rehabilitation? 10000\n",
      "Any investment costs? 0\n",
      "0.9143686502177069\n",
      "91.43686502177069\n"
     ]
    }
   ],
   "source": [
    "rental = Roi()\n",
    "rental.run()"
   ]
  },
  {
   "cell_type": "code",
   "execution_count": null,
   "id": "aba7efc0",
   "metadata": {},
   "outputs": [],
   "source": []
  }
 ],
 "metadata": {
  "kernelspec": {
   "display_name": "Python 3 (ipykernel)",
   "language": "python",
   "name": "python3"
  },
  "language_info": {
   "codemirror_mode": {
    "name": "ipython",
    "version": 3
   },
   "file_extension": ".py",
   "mimetype": "text/x-python",
   "name": "python",
   "nbconvert_exporter": "python",
   "pygments_lexer": "ipython3",
   "version": "3.9.7"
  }
 },
 "nbformat": 4,
 "nbformat_minor": 5
}
